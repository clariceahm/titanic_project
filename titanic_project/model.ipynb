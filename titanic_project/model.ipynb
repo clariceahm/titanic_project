{
 "cells": [
  {
   "cell_type": "markdown",
   "metadata": {},
   "source": [
    "### Pacotes Necessários"
   ]
  },
  {
   "cell_type": "code",
   "execution_count": 1,
   "metadata": {},
   "outputs": [],
   "source": [
    "#### ------------------\n",
    "## Manipulação de dados\n",
    "#### ------------------\n",
    "import pandas as pd\n",
    "\n",
    "import warnings\n",
    "warnings.simplefilter(action='ignore', category=FutureWarning)\n",
    "\n",
    "#### ------------------\n",
    "## Machine learning\n",
    "#### ------------------\n",
    "from sklearn import model_selection, metrics\n",
    "from sklearn.svm import LinearSVC\n",
    "from sklearn.ensemble import GradientBoostingClassifier\n",
    "from sklearn.neighbors import KNeighborsClassifier\n",
    "from sklearn.linear_model import  LogisticRegression\n",
    "import xgboost as xgb\n",
    "from sklearn.ensemble import RandomForestClassifier\n",
    "from sklearn.neural_network import MLPClassifier\n",
    "from sklearn.model_selection import GridSearchCV"
   ]
  },
  {
   "cell_type": "markdown",
   "metadata": {},
   "source": [
    "### Funções"
   ]
  },
  {
   "cell_type": "code",
   "execution_count": 2,
   "metadata": {},
   "outputs": [],
   "source": [
    "##---------------------------------------------------------------------------------\n",
    "# Função que processa o Algoritmo e retorna métricas para modelos de classificação\n",
    "##---------------------------------------------------------------------------------\n",
    "## cv = 10\n",
    "## Determina a estratégia de divisão de validação cruzada.\n",
    "## Especifica o número de folds a serem realizados.\n",
    "\n",
    "## n_jobs = -1\n",
    "## Número de jobs a serem executados em paralelo. \n",
    "## O treinamento do estimador e a previsão são paralelizados nas divisões de validação cruzada. \n",
    "## -1 significa usar todos os processadores.\n",
    "\n",
    "def testing_models(algoritmo, X_train, y_train, vc):\n",
    "    modelo = algoritmo.fit(X_train, y_train)\n",
    "    \n",
    "    train_pred = model_selection.cross_val_predict(algoritmo, X_train, y_train, cv = vc, n_jobs = -1)    \n",
    "    acuracia = round(metrics.accuracy_score(y_train, train_pred), 4)\n",
    "    f1 = round(metrics.f1_score(y_train, train_pred), 4)\n",
    "    roc = round(metrics.roc_auc_score(y_train, train_pred), 4)\n",
    "    \n",
    "    return acuracia, f1, roc"
   ]
  },
  {
   "cell_type": "markdown",
   "metadata": {},
   "source": [
    "### Carregando os dados de treino"
   ]
  },
  {
   "cell_type": "code",
   "execution_count": 3,
   "metadata": {},
   "outputs": [
    {
     "data": {
      "text/html": [
       "<div>\n",
       "<style scoped>\n",
       "    .dataframe tbody tr th:only-of-type {\n",
       "        vertical-align: middle;\n",
       "    }\n",
       "\n",
       "    .dataframe tbody tr th {\n",
       "        vertical-align: top;\n",
       "    }\n",
       "\n",
       "    .dataframe thead th {\n",
       "        text-align: right;\n",
       "    }\n",
       "</style>\n",
       "<table border=\"1\" class=\"dataframe\">\n",
       "  <thead>\n",
       "    <tr style=\"text-align: right;\">\n",
       "      <th></th>\n",
       "      <th>Survived</th>\n",
       "      <th>Age_treated</th>\n",
       "      <th>SibSp</th>\n",
       "      <th>Parch</th>\n",
       "      <th>Fare_treated</th>\n",
       "      <th>Sex</th>\n",
       "      <th>Pclass_2</th>\n",
       "      <th>Pclass_3</th>\n",
       "      <th>Embarked_Q</th>\n",
       "      <th>Embarked_S</th>\n",
       "    </tr>\n",
       "  </thead>\n",
       "  <tbody>\n",
       "    <tr>\n",
       "      <th>0</th>\n",
       "      <td>0</td>\n",
       "      <td>22</td>\n",
       "      <td>1</td>\n",
       "      <td>0</td>\n",
       "      <td>7.2500</td>\n",
       "      <td>0</td>\n",
       "      <td>False</td>\n",
       "      <td>True</td>\n",
       "      <td>False</td>\n",
       "      <td>True</td>\n",
       "    </tr>\n",
       "    <tr>\n",
       "      <th>1</th>\n",
       "      <td>1</td>\n",
       "      <td>38</td>\n",
       "      <td>1</td>\n",
       "      <td>0</td>\n",
       "      <td>71.2833</td>\n",
       "      <td>1</td>\n",
       "      <td>False</td>\n",
       "      <td>False</td>\n",
       "      <td>False</td>\n",
       "      <td>False</td>\n",
       "    </tr>\n",
       "    <tr>\n",
       "      <th>2</th>\n",
       "      <td>1</td>\n",
       "      <td>26</td>\n",
       "      <td>0</td>\n",
       "      <td>0</td>\n",
       "      <td>7.9250</td>\n",
       "      <td>1</td>\n",
       "      <td>False</td>\n",
       "      <td>True</td>\n",
       "      <td>False</td>\n",
       "      <td>True</td>\n",
       "    </tr>\n",
       "    <tr>\n",
       "      <th>3</th>\n",
       "      <td>1</td>\n",
       "      <td>35</td>\n",
       "      <td>1</td>\n",
       "      <td>0</td>\n",
       "      <td>53.1000</td>\n",
       "      <td>1</td>\n",
       "      <td>False</td>\n",
       "      <td>False</td>\n",
       "      <td>False</td>\n",
       "      <td>True</td>\n",
       "    </tr>\n",
       "    <tr>\n",
       "      <th>4</th>\n",
       "      <td>0</td>\n",
       "      <td>35</td>\n",
       "      <td>0</td>\n",
       "      <td>0</td>\n",
       "      <td>8.0500</td>\n",
       "      <td>0</td>\n",
       "      <td>False</td>\n",
       "      <td>True</td>\n",
       "      <td>False</td>\n",
       "      <td>True</td>\n",
       "    </tr>\n",
       "  </tbody>\n",
       "</table>\n",
       "</div>"
      ],
      "text/plain": [
       "   Survived  Age_treated  SibSp  Parch  Fare_treated  Sex  Pclass_2  Pclass_3  \\\n",
       "0         0           22      1      0        7.2500    0     False      True   \n",
       "1         1           38      1      0       71.2833    1     False     False   \n",
       "2         1           26      0      0        7.9250    1     False      True   \n",
       "3         1           35      1      0       53.1000    1     False     False   \n",
       "4         0           35      0      0        8.0500    0     False      True   \n",
       "\n",
       "   Embarked_Q  Embarked_S  \n",
       "0       False        True  \n",
       "1       False       False  \n",
       "2       False        True  \n",
       "3       False        True  \n",
       "4       False        True  "
      ]
     },
     "execution_count": 3,
     "metadata": {},
     "output_type": "execute_result"
    }
   ],
   "source": [
    "## Lendo os dados de treino\n",
    "train = pd.read_csv('C:/Users/clari/OneDrive/Documentos/python_codigos/titanic_project/data/titanic_train.csv', index_col=0)\n",
    "train.head()"
   ]
  },
  {
   "cell_type": "code",
   "execution_count": 4,
   "metadata": {},
   "outputs": [
    {
     "data": {
      "text/html": [
       "<div>\n",
       "<style scoped>\n",
       "    .dataframe tbody tr th:only-of-type {\n",
       "        vertical-align: middle;\n",
       "    }\n",
       "\n",
       "    .dataframe tbody tr th {\n",
       "        vertical-align: top;\n",
       "    }\n",
       "\n",
       "    .dataframe thead th {\n",
       "        text-align: right;\n",
       "    }\n",
       "</style>\n",
       "<table border=\"1\" class=\"dataframe\">\n",
       "  <thead>\n",
       "    <tr style=\"text-align: right;\">\n",
       "      <th></th>\n",
       "      <th>Age_treated</th>\n",
       "      <th>SibSp</th>\n",
       "      <th>Parch</th>\n",
       "      <th>Fare_treated</th>\n",
       "      <th>Sex</th>\n",
       "      <th>Pclass_2</th>\n",
       "      <th>Pclass_3</th>\n",
       "      <th>Embarked_Q</th>\n",
       "      <th>Embarked_S</th>\n",
       "    </tr>\n",
       "  </thead>\n",
       "  <tbody>\n",
       "    <tr>\n",
       "      <th>0</th>\n",
       "      <td>22</td>\n",
       "      <td>1</td>\n",
       "      <td>0</td>\n",
       "      <td>7.2500</td>\n",
       "      <td>0</td>\n",
       "      <td>False</td>\n",
       "      <td>True</td>\n",
       "      <td>False</td>\n",
       "      <td>True</td>\n",
       "    </tr>\n",
       "    <tr>\n",
       "      <th>1</th>\n",
       "      <td>38</td>\n",
       "      <td>1</td>\n",
       "      <td>0</td>\n",
       "      <td>71.2833</td>\n",
       "      <td>1</td>\n",
       "      <td>False</td>\n",
       "      <td>False</td>\n",
       "      <td>False</td>\n",
       "      <td>False</td>\n",
       "    </tr>\n",
       "    <tr>\n",
       "      <th>2</th>\n",
       "      <td>26</td>\n",
       "      <td>0</td>\n",
       "      <td>0</td>\n",
       "      <td>7.9250</td>\n",
       "      <td>1</td>\n",
       "      <td>False</td>\n",
       "      <td>True</td>\n",
       "      <td>False</td>\n",
       "      <td>True</td>\n",
       "    </tr>\n",
       "    <tr>\n",
       "      <th>3</th>\n",
       "      <td>35</td>\n",
       "      <td>1</td>\n",
       "      <td>0</td>\n",
       "      <td>53.1000</td>\n",
       "      <td>1</td>\n",
       "      <td>False</td>\n",
       "      <td>False</td>\n",
       "      <td>False</td>\n",
       "      <td>True</td>\n",
       "    </tr>\n",
       "    <tr>\n",
       "      <th>4</th>\n",
       "      <td>35</td>\n",
       "      <td>0</td>\n",
       "      <td>0</td>\n",
       "      <td>8.0500</td>\n",
       "      <td>0</td>\n",
       "      <td>False</td>\n",
       "      <td>True</td>\n",
       "      <td>False</td>\n",
       "      <td>True</td>\n",
       "    </tr>\n",
       "  </tbody>\n",
       "</table>\n",
       "</div>"
      ],
      "text/plain": [
       "   Age_treated  SibSp  Parch  Fare_treated  Sex  Pclass_2  Pclass_3  \\\n",
       "0           22      1      0        7.2500    0     False      True   \n",
       "1           38      1      0       71.2833    1     False     False   \n",
       "2           26      0      0        7.9250    1     False      True   \n",
       "3           35      1      0       53.1000    1     False     False   \n",
       "4           35      0      0        8.0500    0     False      True   \n",
       "\n",
       "   Embarked_Q  Embarked_S  \n",
       "0       False        True  \n",
       "1       False       False  \n",
       "2       False        True  \n",
       "3       False        True  \n",
       "4       False        True  "
      ]
     },
     "execution_count": 4,
     "metadata": {},
     "output_type": "execute_result"
    }
   ],
   "source": [
    "### Separando X e y de treino\n",
    "x_train = train.drop('Survived', axis = 1)\n",
    "y_train = train['Survived']\n",
    "x_train.head()"
   ]
  },
  {
   "cell_type": "markdown",
   "metadata": {},
   "source": [
    "### Testes com diversos modelos"
   ]
  },
  {
   "cell_type": "code",
   "execution_count": 5,
   "metadata": {},
   "outputs": [
    {
     "name": "stdout",
     "output_type": "stream",
     "text": [
      "Acurácia:  0.8025\n",
      "F1-Score:  0.7284\n",
      "Área sob a curva ROC:  0.7813\n"
     ]
    }
   ],
   "source": [
    "##--------------------------\n",
    "## Regressão Logística\n",
    "##--------------------------\n",
    "algoritmo = LogisticRegression(max_iter=1000)\n",
    "vc = 10\n",
    "acuracia, f1, roc = testing_models(algoritmo, x_train, y_train, vc)\n",
    "print('Acurácia: ', acuracia)\n",
    "print('F1-Score: ', f1)\n",
    "print('Área sob a curva ROC: ', roc)"
   ]
  },
  {
   "cell_type": "code",
   "execution_count": 6,
   "metadata": {},
   "outputs": [
    {
     "name": "stdout",
     "output_type": "stream",
     "text": [
      "Acurácia:  0.6958\n",
      "F1-Score:  0.5772\n",
      "Área sob a curva ROC:  0.6666\n"
     ]
    }
   ],
   "source": [
    "##--------------------------\n",
    "## KNN\n",
    "##--------------------------\n",
    "algoritmo = KNeighborsClassifier()\n",
    "vc = 10\n",
    "acuracia, f1, roc = testing_models(algoritmo, x_train, y_train, vc)\n",
    "print('Acurácia: ', acuracia)\n",
    "print('F1-Score: ', f1)\n",
    "print('Área sob a curva ROC: ', roc)"
   ]
  },
  {
   "cell_type": "code",
   "execution_count": 7,
   "metadata": {},
   "outputs": [
    {
     "name": "stdout",
     "output_type": "stream",
     "text": [
      "Acurácia:  0.8002\n",
      "F1-Score:  0.727\n",
      "Área sob a curva ROC:  0.78\n"
     ]
    }
   ],
   "source": [
    "##--------------------------\n",
    "## SVM\n",
    "##--------------------------\n",
    "## dual=False\n",
    "## Selecione o algoritmo para resolver o problema de otimização dual ou primal. \n",
    "## Prefira dual=False quando n_samples > n_features. \n",
    "## dual=\"auto\" escolherá o valor do parâmetro automaticamente, \n",
    "## com base nos valores de n_samples, n_features, loss, multi_class e penalização. \n",
    "## Se n_samples < n_features e o optmizer suportarem perda escolhida, multi_class e penalidade, \n",
    "## então dual será definido como True, caso contrário, será definido como False.\n",
    "\n",
    "algoritmo = LinearSVC(dual=False)\n",
    "vc = 10\n",
    "acuracia, f1, roc = testing_models(algoritmo, x_train, y_train, vc)\n",
    "print('Acurácia: ', acuracia)\n",
    "print('F1-Score: ', f1)\n",
    "print('Área sob a curva ROC: ', roc)"
   ]
  },
  {
   "cell_type": "code",
   "execution_count": 8,
   "metadata": {},
   "outputs": [
    {
     "name": "stdout",
     "output_type": "stream",
     "text": [
      "Acurácia:  0.8148\n",
      "F1-Score:  0.7541\n",
      "Área sob a curva ROC:  0.8007\n"
     ]
    }
   ],
   "source": [
    "##--------------------------\n",
    "## Random Forest\n",
    "##--------------------------\n",
    "algoritmo = RandomForestClassifier()\n",
    "vc = 10\n",
    "acuracia, f1, roc = testing_models(algoritmo, x_train, y_train, vc)\n",
    "print('Acurácia: ', acuracia)\n",
    "print('F1-Score: ', f1)\n",
    "print('Área sob a curva ROC: ', roc)"
   ]
  },
  {
   "cell_type": "code",
   "execution_count": 9,
   "metadata": {},
   "outputs": [
    {
     "name": "stdout",
     "output_type": "stream",
     "text": [
      "Acurácia:  0.826\n",
      "F1-Score:  0.7551\n",
      "Área sob a curva ROC:  0.8021\n"
     ]
    }
   ],
   "source": [
    "##--------------------------\n",
    "## Gradient Boost Trees\n",
    "##--------------------------\n",
    "algoritmo = GradientBoostingClassifier()\n",
    "vc = 10\n",
    "acuracia, f1, roc = testing_models(algoritmo, x_train, y_train, vc)\n",
    "print('Acurácia: ', acuracia)\n",
    "print('F1-Score: ', f1)\n",
    "print('Área sob a curva ROC: ', roc)"
   ]
  },
  {
   "cell_type": "code",
   "execution_count": 10,
   "metadata": {},
   "outputs": [
    {
     "name": "stdout",
     "output_type": "stream",
     "text": [
      "Acurácia:  0.8182\n",
      "F1-Score:  0.7575\n",
      "Área sob a curva ROC:  0.8034\n"
     ]
    }
   ],
   "source": [
    "##--------------------------\n",
    "## XGBoost\n",
    "##--------------------------\n",
    "## objective -> Specify the learning task and the corresponding learning objective or a custom objective function to be used\n",
    "## random_state -> Random number seed.\n",
    "algoritmo = xgb.XGBClassifier(objective=\"binary:logistic\", random_state=123)\n",
    "vc = 10\n",
    "acuracia, f1, roc = testing_models(algoritmo, x_train, y_train, vc)\n",
    "print('Acurácia: ', acuracia)\n",
    "print('F1-Score: ', f1)\n",
    "print('Área sob a curva ROC: ', roc)"
   ]
  },
  {
   "cell_type": "code",
   "execution_count": 11,
   "metadata": {},
   "outputs": [
    {
     "name": "stdout",
     "output_type": "stream",
     "text": [
      "Acurácia:  0.7621\n",
      "F1-Score:  0.6748\n",
      "Área sob a curva ROC:  0.7397\n"
     ]
    }
   ],
   "source": [
    "##--------------------------\n",
    "## MLP - Redes Neurais\n",
    "##--------------------------\n",
    "algoritmo = MLPClassifier(random_state=1,\n",
    "                          hidden_layer_sizes = (1024,128),\n",
    "                          solver = \"adam\", \n",
    "                          activation = \"logistic\",\n",
    "                          max_iter=300).fit(x_train, y_train)\n",
    "vc = 10\n",
    "acuracia, f1, roc = testing_models(algoritmo, x_train, y_train, vc)\n",
    "print('Acurácia: ', acuracia)\n",
    "print('F1-Score: ', f1)\n",
    "print('Área sob a curva ROC: ', roc)"
   ]
  },
  {
   "cell_type": "markdown",
   "metadata": {},
   "source": [
    "Os modelos que obtiveram uma performance melhor parecem ser o Gradient Boost Trees e o XGBoost. Os dois essencialemnte são o mesmo modelo, contudo o XGBoost possui algumas vantagens na velocidade de processamento, na performance do modelo e pela possiblidade de paralelizar. Ele segue construindo sequencialmente mais árvores de decisão, cada uma corrigindo o erro da árvore anterior até que uma condição de parada seja alcançada.\n",
    "\n",
    "Além disso, ao comparar as métricas entre os dois modelos, percebe-se que o XGBoost possui uma área sob a curva ROC um pouco maior e o Gradient Boost Trees, uma acurácia maior. A acurácia pode ser fortemente influenciada por dados desbalanceados, sendo a área sob a curva ROC uma métrica mais confiável.\n",
    "Sendo assim, optou-se por seguir com o modelo XGBoost por obter uma área superior sob a curva ROC.  Segue-se no processo de escolha dos melhores parâmetros para o modelo XGBoost."
   ]
  },
  {
   "cell_type": "code",
   "execution_count": 22,
   "metadata": {},
   "outputs": [],
   "source": [
    "##---------------------------------------------\n",
    "## Some notes about tunning xgboost parameters\n",
    "##---------------------------------------------\n",
    "\n",
    "##------------------------------------------------------------------------------------\n",
    "## max_depth:\n",
    "## Shallow trees are expected to have poor performance because they capture few details \n",
    "## of the problem and are generally referred to as weak learners. Deeper trees generally \n",
    "## capture too many details of the problem and overfit the training dataset, limiting \n",
    "## the ability to make good predictions on new data.\n",
    "##------------------------------------------------------------------------------------\n",
    "## n_estimators:\n",
    "## With boosted tree models, models are trained sequentially - where each subsequence \n",
    "## tree tries to correct for the errors made by the previous sequence of trees.\n",
    "## The n_estimators_ parameter specifies how many sequential trees we want to make \n",
    "## that attempt to correct for prior trees.\n",
    "\n",
    "##------------------------------------------------------------------------------------\n",
    "## learning_rate:\n",
    "## The learning_rate parameter (also referenced in XGboost documentation as eta) controls \n",
    "## the magnitude of change that is permitted from one tree to the next.\n",
    "\n",
    "\n",
    "params = dict( \n",
    "    learning_rate = [0.001, 0.010, 0.100, 0.500], \n",
    "    max_depth = [3,5,7,9, 10],\n",
    "    n_estimators = [n for n in range(50, 400, 50)],\n",
    ")"
   ]
  },
  {
   "cell_type": "code",
   "execution_count": 23,
   "metadata": {},
   "outputs": [
    {
     "name": "stdout",
     "output_type": "stream",
     "text": [
      "Melhor pontuação: 0.8395380774032459\n",
      "Melhores parâmetros: XGBClassifier(base_score=None, booster=None, callbacks=None,\n",
      "              colsample_bylevel=None, colsample_bynode=None,\n",
      "              colsample_bytree=None, device=None, early_stopping_rounds=None,\n",
      "              enable_categorical=False, eval_metric=None, feature_types=None,\n",
      "              gamma=None, grow_policy=None, importance_type=None,\n",
      "              interaction_constraints=None, learning_rate=0.01, max_bin=None,\n",
      "              max_cat_threshold=None, max_cat_to_onehot=None,\n",
      "              max_delta_step=None, max_depth=9, max_leaves=None,\n",
      "              min_child_weight=None, missing=nan, monotone_constraints=None,\n",
      "              multi_strategy=None, n_estimators=100, n_jobs=None,\n",
      "              num_parallel_tree=None, random_state=None, ...)\n"
     ]
    }
   ],
   "source": [
    "###--------------------------\n",
    "## Cross-Validation\n",
    "###--------------------------\n",
    "algoritmo = xgb.XGBClassifier(objective=\"binary:logistic\",\n",
    "                              seed=123)\n",
    "\n",
    "xgb_cv = GridSearchCV(estimator = algoritmo, param_grid = params, cv = 10) \n",
    "xgb_cv.fit(x_train, y_train)\n",
    "\n",
    "print(f\"Melhor pontuação: {xgb_cv.best_score_}\")\n",
    "print(f\"Melhores parâmetros: {xgb_cv.best_estimator_}\")"
   ]
  },
  {
   "cell_type": "code",
   "execution_count": 24,
   "metadata": {},
   "outputs": [
    {
     "name": "stdout",
     "output_type": "stream",
     "text": [
      "[0 0 0 0 1 0 0 0 1 0 0 0 1 0 1 1 0 0 0 0 0 1 1 0 1 0 1 0 1 0 0 0 0 0 0 0 0\n",
      " 0 0 1 0 1 0 1 1 0 0 0 1 0 0 0 1 1 0 0 0 0 0 1 0 0 0 1 0 1 1 0 0 1 1 0 0 0\n",
      " 1 0 0 1 0 1 1 0 0 0 0 0 1 0 1 1 1 0 1 0 0 0 1 0 1 0 1 0 0 0 1 0 0 0 0 0 0\n",
      " 1 1 1 1 0 0 1 0 1 1 0 1 0 0 1 0 1 0 0 0 0 0 0 0 0 0 0 0 0 0 1 0 0 1 0 0 0\n",
      " 1 0 1 0 0 0 0 0 1 0 1 1 1 1 1 0 0 0 0 0 1 0 0 0 0 0 0 1 1 0 1 1 0 0 1 0 1\n",
      " 0 1 0 0 0 0 0 0 0 1 0 1 1 0 0 1 1 0 1 0 0 0 0 1 0 0 0 0 1 0 0 1 0 1 0 1 0\n",
      " 1 0 1 0 0 1 0 0 0 1 0 0 0 0 0 0 1 1 1 1 0 0 0 0 1 0 1 0 1 0 0 0 0 0 0 0 1\n",
      " 0 0 0 1 1 0 0 0 0 0 0 0 0 1 1 0 1 0 0 0 0 0 1 1 0 0 0 0 0 0 0 0 0 0 0 0 0\n",
      " 1 0 0 0 0 0 0 0 1 1 0 1 0 0 0 0 0 0 1 1 0 0 0 0 0 0 0 1 1 0 1 0 0 0 1 0 0\n",
      " 1 0 0 0 0 0 0 0 0 0 1 0 1 0 0 0 1 1 0 0 0 0 0 1 0 0 1 0 1 1 0 1 0 0 0 1 0\n",
      " 0 1 0 0 1 1 0 0 0 0 0 0 1 1 0 1 0 0 0 0 0 1 0 0 0 1 0 1 0 0 1 0 1 0 0 0 0\n",
      " 0 1 1 1 1 0 0 1 0 0 0]\n"
     ]
    }
   ],
   "source": [
    "### Lendo os dados de teste para previsão\n",
    "x_test = pd.read_csv('C:/Users/clari/OneDrive/Documentos/python_codigos/titanic_project/data/titanic_test.csv', index_col=0)\n",
    "\n",
    "##Predição com dados de teste\n",
    "y_pred = xgb_cv.predict(x_test)\n",
    "print(y_pred)"
   ]
  },
  {
   "cell_type": "markdown",
   "metadata": {},
   "source": [
    "O objetivo desse projeto não é participar do desafio kaggle, contudo optei por deixar aqui a etapa final de salvar o df no formato que o kaggle exige para envio do desafio."
   ]
  },
  {
   "cell_type": "code",
   "execution_count": 25,
   "metadata": {},
   "outputs": [
    {
     "name": "stdout",
     "output_type": "stream",
     "text": [
      "0       892\n",
      "1       893\n",
      "2       894\n",
      "3       895\n",
      "4       896\n",
      "       ... \n",
      "413    1305\n",
      "414    1306\n",
      "415    1307\n",
      "416    1308\n",
      "417    1309\n",
      "Name: PassengerId, Length: 418, dtype: int64\n"
     ]
    }
   ],
   "source": [
    "## Lendo os dados originais de teste para trazer o PassengerId e concatenar com a previsão\n",
    "test = pd.read_csv('C:/Users/clari/OneDrive/Documentos/python_codigos/titanic_project/data/test.csv')\n",
    "# Salvar PassengerId para auxiliar na criação do arquivo que será enviado ao Kaggle\n",
    "passengerId = test['PassengerId']\n",
    "print(passengerId)"
   ]
  },
  {
   "cell_type": "code",
   "execution_count": 26,
   "metadata": {},
   "outputs": [
    {
     "data": {
      "text/html": [
       "<div>\n",
       "<style scoped>\n",
       "    .dataframe tbody tr th:only-of-type {\n",
       "        vertical-align: middle;\n",
       "    }\n",
       "\n",
       "    .dataframe tbody tr th {\n",
       "        vertical-align: top;\n",
       "    }\n",
       "\n",
       "    .dataframe thead th {\n",
       "        text-align: right;\n",
       "    }\n",
       "</style>\n",
       "<table border=\"1\" class=\"dataframe\">\n",
       "  <thead>\n",
       "    <tr style=\"text-align: right;\">\n",
       "      <th></th>\n",
       "      <th>PassengerId</th>\n",
       "      <th>Survived</th>\n",
       "    </tr>\n",
       "  </thead>\n",
       "  <tbody>\n",
       "    <tr>\n",
       "      <th>0</th>\n",
       "      <td>892</td>\n",
       "      <td>0</td>\n",
       "    </tr>\n",
       "    <tr>\n",
       "      <th>1</th>\n",
       "      <td>893</td>\n",
       "      <td>0</td>\n",
       "    </tr>\n",
       "    <tr>\n",
       "      <th>2</th>\n",
       "      <td>894</td>\n",
       "      <td>0</td>\n",
       "    </tr>\n",
       "    <tr>\n",
       "      <th>3</th>\n",
       "      <td>895</td>\n",
       "      <td>0</td>\n",
       "    </tr>\n",
       "    <tr>\n",
       "      <th>4</th>\n",
       "      <td>896</td>\n",
       "      <td>1</td>\n",
       "    </tr>\n",
       "  </tbody>\n",
       "</table>\n",
       "</div>"
      ],
      "text/plain": [
       "   PassengerId  Survived\n",
       "0          892         0\n",
       "1          893         0\n",
       "2          894         0\n",
       "3          895         0\n",
       "4          896         1"
      ]
     },
     "execution_count": 26,
     "metadata": {},
     "output_type": "execute_result"
    }
   ],
   "source": [
    "kaggle = pd.DataFrame({'PassengerId': passengerId, 'Survived': y_pred})\n",
    "kaggle.head()"
   ]
  },
  {
   "cell_type": "code",
   "execution_count": 27,
   "metadata": {},
   "outputs": [],
   "source": [
    "### Salvando o conjunto de dados\n",
    "kaggle.to_csv('C:/Users/clari/OneDrive/Documentos/python_codigos/titanic_project/data/kaggle.csv')"
   ]
  }
 ],
 "metadata": {
  "kernelspec": {
   "display_name": "titanic-project-sphjgSDO-py3.10",
   "language": "python",
   "name": "python3"
  },
  "language_info": {
   "codemirror_mode": {
    "name": "ipython",
    "version": 3
   },
   "file_extension": ".py",
   "mimetype": "text/x-python",
   "name": "python",
   "nbconvert_exporter": "python",
   "pygments_lexer": "ipython3",
   "version": "3.10.11"
  },
  "orig_nbformat": 4
 },
 "nbformat": 4,
 "nbformat_minor": 2
}
